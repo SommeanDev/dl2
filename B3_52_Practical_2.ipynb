{
 "cells": [
  {
   "cell_type": "code",
   "execution_count": 13,
   "id": "ae8614e1",
   "metadata": {},
   "outputs": [],
   "source": [
    "import pandas as pd\n",
    "from pgmpy.models import DiscreteBayesianNetwork\n",
    "from pgmpy.estimators import ParameterEstimator, BayesianEstimator\n",
    "from pgmpy.inference import VariableElimination\n",
    "from pgmpy.factors.discrete import TabularCPD\n",
    "import matplotlib.pyplot as plt\n",
    "import networkx as nx"
   ]
  },
  {
   "cell_type": "code",
   "execution_count": 14,
   "id": "1580b436",
   "metadata": {},
   "outputs": [
    {
     "data": {
      "text/html": [
       "<div>\n",
       "<style scoped>\n",
       "    .dataframe tbody tr th:only-of-type {\n",
       "        vertical-align: middle;\n",
       "    }\n",
       "\n",
       "    .dataframe tbody tr th {\n",
       "        vertical-align: top;\n",
       "    }\n",
       "\n",
       "    .dataframe thead th {\n",
       "        text-align: right;\n",
       "    }\n",
       "</style>\n",
       "<table border=\"1\" class=\"dataframe\">\n",
       "  <thead>\n",
       "    <tr style=\"text-align: right;\">\n",
       "      <th></th>\n",
       "      <th>Customer_ID</th>\n",
       "      <th>Gender</th>\n",
       "      <th>AgeGroup</th>\n",
       "      <th>Business</th>\n",
       "      <th>Employed</th>\n",
       "      <th>MaritalStatus</th>\n",
       "      <th>Success</th>\n",
       "    </tr>\n",
       "  </thead>\n",
       "  <tbody>\n",
       "    <tr>\n",
       "      <th>0</th>\n",
       "      <td>1</td>\n",
       "      <td>Male</td>\n",
       "      <td>&gt;35</td>\n",
       "      <td>Yes</td>\n",
       "      <td>No</td>\n",
       "      <td>Single</td>\n",
       "      <td>Yes</td>\n",
       "    </tr>\n",
       "    <tr>\n",
       "      <th>1</th>\n",
       "      <td>2</td>\n",
       "      <td>Female</td>\n",
       "      <td>&gt;35</td>\n",
       "      <td>No</td>\n",
       "      <td>Yes</td>\n",
       "      <td>Married</td>\n",
       "      <td>No</td>\n",
       "    </tr>\n",
       "    <tr>\n",
       "      <th>2</th>\n",
       "      <td>3</td>\n",
       "      <td>Female</td>\n",
       "      <td>&gt;35</td>\n",
       "      <td>Yes</td>\n",
       "      <td>No</td>\n",
       "      <td>Single</td>\n",
       "      <td>No</td>\n",
       "    </tr>\n",
       "    <tr>\n",
       "      <th>3</th>\n",
       "      <td>4</td>\n",
       "      <td>Female</td>\n",
       "      <td>&lt;=35</td>\n",
       "      <td>No</td>\n",
       "      <td>Yes</td>\n",
       "      <td>Married</td>\n",
       "      <td>Yes</td>\n",
       "    </tr>\n",
       "    <tr>\n",
       "      <th>4</th>\n",
       "      <td>5</td>\n",
       "      <td>Female</td>\n",
       "      <td>&lt;=35</td>\n",
       "      <td>Yes</td>\n",
       "      <td>No</td>\n",
       "      <td>Married</td>\n",
       "      <td>No</td>\n",
       "    </tr>\n",
       "  </tbody>\n",
       "</table>\n",
       "</div>"
      ],
      "text/plain": [
       "   Customer_ID  Gender AgeGroup Business Employed MaritalStatus Success\n",
       "0            1    Male      >35      Yes       No        Single     Yes\n",
       "1            2  Female      >35       No      Yes       Married      No\n",
       "2            3  Female      >35      Yes       No        Single      No\n",
       "3            4  Female     <=35       No      Yes       Married     Yes\n",
       "4            5  Female     <=35      Yes       No       Married      No"
      ]
     },
     "execution_count": 14,
     "metadata": {},
     "output_type": "execute_result"
    }
   ],
   "source": [
    "df = pd.read_csv(\"Meera_Gems_Campaign_Dataset.csv\")\n",
    "df.rename(columns={\n",
    "    'Age_Group': 'AgeGroup',\n",
    "    'Marital_Status': 'MaritalStatus'\n",
    "}, inplace=True)\n",
    "df.head()"
   ]
  },
  {
   "cell_type": "code",
   "execution_count": 15,
   "id": "15817318",
   "metadata": {},
   "outputs": [],
   "source": [
    "model = DiscreteBayesianNetwork([\n",
    "    ('AgeGroup', 'MaritalStatus'),\n",
    "    ('AgeGroup', 'Success'),\n",
    "    ('Gender', 'Success'),\n",
    "    ('Business', 'Employed'),\n",
    "    ('Employed', 'Success'),\n",
    "    ('MaritalStatus', 'Success')\n",
    "])\n"
   ]
  },
  {
   "cell_type": "code",
   "execution_count": 16,
   "id": "afec0c42",
   "metadata": {},
   "outputs": [
    {
     "name": "stderr",
     "output_type": "stream",
     "text": [
      "INFO:pgmpy: Datatype (N=numerical, C=Categorical Unordered, O=Categorical Ordered) inferred from data: \n",
      " {'Customer_ID': 'N', 'Gender': 'C', 'AgeGroup': 'C', 'Business': 'C', 'Employed': 'C', 'MaritalStatus': 'C', 'Success': 'C'}\n"
     ]
    },
    {
     "data": {
      "text/plain": [
       "<pgmpy.models.DiscreteBayesianNetwork.DiscreteBayesianNetwork at 0x75ed33d50350>"
      ]
     },
     "execution_count": 16,
     "metadata": {},
     "output_type": "execute_result"
    }
   ],
   "source": [
    "model.fit(df, estimator=BayesianEstimator, prior_type=\"BDeu\")"
   ]
  },
  {
   "cell_type": "code",
   "execution_count": 17,
   "id": "c64cf5d7",
   "metadata": {},
   "outputs": [
    {
     "data": {
      "text/plain": [
       "True"
      ]
     },
     "execution_count": 17,
     "metadata": {},
     "output_type": "execute_result"
    }
   ],
   "source": [
    "model.check_model()"
   ]
  },
  {
   "cell_type": "code",
   "execution_count": null,
   "id": "37f3c309",
   "metadata": {},
   "outputs": [
    {
     "name": "stderr",
     "output_type": "stream",
     "text": [
      "WARNING:pgmpy:Replacing existing CPD for AgeGroup\n",
      "WARNING:pgmpy:Replacing existing CPD for Gender\n",
      "WARNING:pgmpy:Replacing existing CPD for Business\n",
      "WARNING:pgmpy:Replacing existing CPD for Employed\n",
      "WARNING:pgmpy:Replacing existing CPD for MaritalStatus\n",
      "WARNING:pgmpy:Replacing existing CPD for Success\n"
     ]
    },
    {
     "name": "stdout",
     "output_type": "stream",
     "text": [
      "Model valid? True\n",
      "CPD of AgeGroup:\n",
      " +-------------+-----+\n",
      "| AgeGroup(0) | 0.5 |\n",
      "+-------------+-----+\n",
      "| AgeGroup(1) | 0.5 |\n",
      "+-------------+-----+\n",
      "CPD of Gender:\n",
      " +-----------+-----+\n",
      "| Gender(0) | 0.5 |\n",
      "+-----------+-----+\n",
      "| Gender(1) | 0.5 |\n",
      "+-----------+-----+\n",
      "CPD of Business:\n",
      " +-------------+-----+\n",
      "| Business(0) | 0.6 |\n",
      "+-------------+-----+\n",
      "| Business(1) | 0.4 |\n",
      "+-------------+-----+\n",
      "CPD of Employed:\n",
      " +-------------+-------------+-------------+\n",
      "| Business    | Business(0) | Business(1) |\n",
      "+-------------+-------------+-------------+\n",
      "| Employed(0) | 0.8         | 0.3         |\n",
      "+-------------+-------------+-------------+\n",
      "| Employed(1) | 0.2         | 0.7         |\n",
      "+-------------+-------------+-------------+\n",
      "CPD of MaritalStatus:\n",
      " +------------------+-------------+-------------+\n",
      "| AgeGroup         | AgeGroup(0) | AgeGroup(1) |\n",
      "+------------------+-------------+-------------+\n",
      "| MaritalStatus(0) | 0.7         | 0.3         |\n",
      "+------------------+-------------+-------------+\n",
      "| MaritalStatus(1) | 0.3         | 0.7         |\n",
      "+------------------+-------------+-------------+\n",
      "CPD of Success:\n",
      " +---------------+------------------+-----+------------------+\n",
      "| AgeGroup      | AgeGroup(0)      | ... | AgeGroup(1)      |\n",
      "+---------------+------------------+-----+------------------+\n",
      "| Gender        | Gender(0)        | ... | Gender(1)        |\n",
      "+---------------+------------------+-----+------------------+\n",
      "| Employed      | Employed(0)      | ... | Employed(1)      |\n",
      "+---------------+------------------+-----+------------------+\n",
      "| MaritalStatus | MaritalStatus(0) | ... | MaritalStatus(1) |\n",
      "+---------------+------------------+-----+------------------+\n",
      "| Success(0)    | 0.9              | ... | 0.15             |\n",
      "+---------------+------------------+-----+------------------+\n",
      "| Success(1)    | 0.1              | ... | 0.85             |\n",
      "+---------------+------------------+-----+------------------+\n"
     ]
    }
   ],
   "source": [
    "# CPDs for root nodes (no parents)\n",
    "cpd_age = TabularCPD('AgeGroup', 2, [[0.5], [0.5]])  # 50% <=35, 50% >35\n",
    "cpd_gender = TabularCPD('Gender', 2, [[0.5], [0.5]])  # 50% Male, 50% Female\n",
    "cpd_business = TabularCPD('Business', 2, [[0.6], [0.4]])  # 60% No, 40% Yes\n",
    "\n",
    "# Employed depends on Business\n",
    "cpd_employed = TabularCPD(\n",
    "    variable='Employed',\n",
    "    variable_card=2,\n",
    "    values=[[0.8, 0.3],   # Employed = No\n",
    "            [0.2, 0.7]],  # Employed = Yes\n",
    "    evidence=['Business'],\n",
    "    evidence_card=[2]\n",
    ")\n",
    "\n",
    "# MaritalStatus depends on AgeGroup\n",
    "cpd_marital = TabularCPD(\n",
    "    variable='MaritalStatus',\n",
    "    variable_card=2,\n",
    "    values=[[0.7, 0.3],   # Single\n",
    "            [0.3, 0.7]],  # Married\n",
    "    evidence=['AgeGroup'],\n",
    "    evidence_card=[2]\n",
    ")\n",
    "\n",
    "# Success depends on AgeGroup, Gender, Employed, MaritalStatus\n",
    "# For 4 binary variables, 2^4 = 16 combinations\n",
    "cpd_success = TabularCPD(\n",
    "    variable='Success',\n",
    "    variable_card=2,\n",
    "    values=[\n",
    "        # Success = No\n",
    "        [0.9, 0.85, 0.8, 0.75,\n",
    "         0.7, 0.65, 0.6, 0.55,\n",
    "         0.5, 0.45, 0.4, 0.35,\n",
    "         0.3, 0.25, 0.2, 0.15],\n",
    "        # Success = Yes\n",
    "        [0.1, 0.15, 0.2, 0.25,\n",
    "         0.3, 0.35, 0.4, 0.45,\n",
    "         0.5, 0.55, 0.6, 0.65,\n",
    "         0.7, 0.75, 0.8, 0.85]\n",
    "    ],\n",
    "    evidence=['AgeGroup', 'Gender', 'Employed', 'MaritalStatus'],\n",
    "    evidence_card=[2, 2, 2, 2]\n",
    ")\n",
    "\n",
    "# Add all CPDs to the model\n",
    "model.add_cpds(cpd_age, cpd_gender, cpd_business,\n",
    "               cpd_employed, cpd_marital, cpd_success)\n",
    "\n",
    "# Print CPDs\n",
    "print(\"CPD of AgeGroup:\\n\", cpd_age)\n",
    "print(\"CPD of Gender:\\n\", cpd_gender)\n",
    "print(\"CPD of Business:\\n\", cpd_business)\n",
    "print(\"CPD of Employed:\\n\", cpd_employed)\n",
    "print(\"CPD of MaritalStatus:\\n\", cpd_marital)\n",
    "print(\"CPD of Success:\\n\", cpd_success)"
   ]
  },
  {
   "cell_type": "code",
   "execution_count": 19,
   "id": "a9f9d912",
   "metadata": {},
   "outputs": [],
   "source": [
    "inference = VariableElimination(model)"
   ]
  },
  {
   "cell_type": "code",
   "execution_count": 23,
   "id": "a4a1e144",
   "metadata": {},
   "outputs": [
    {
     "name": "stdout",
     "output_type": "stream",
     "text": [
      "+------------+----------------+\n",
      "| Success    |   phi(Success) |\n",
      "+============+================+\n",
      "| Success(0) |         0.4350 |\n",
      "+------------+----------------+\n",
      "| Success(1) |         0.5650 |\n",
      "+------------+----------------+\n"
     ]
    }
   ],
   "source": [
    "#Q3\n",
    "result = inference.query(variables=['Success'], evidence={'Gender': 1})  # 1 = Female\n",
    "print(result)"
   ]
  },
  {
   "cell_type": "code",
   "execution_count": 24,
   "id": "db4387fb",
   "metadata": {},
   "outputs": [
    {
     "name": "stdout",
     "output_type": "stream",
     "text": [
      "Proportion of Success (Age > 35): 0.53\n"
     ]
    }
   ],
   "source": [
    "#Q4\n",
    "success_over_35 = df[df['AgeGroup'] == '>35']\n",
    "proportion = (success_over_35['Success'] == 'Yes').mean()\n",
    "print(f\"Proportion of Success (Age > 35): {proportion:.2f}\")\n"
   ]
  },
  {
   "cell_type": "code",
   "execution_count": 25,
   "id": "df9f6f6e",
   "metadata": {},
   "outputs": [
    {
     "name": "stdout",
     "output_type": "stream",
     "text": [
      "Success Rate by Employment Status:\n",
      " Success         No       Yes\n",
      "Employed                    \n",
      "No        0.361702  0.638298\n",
      "Yes       0.509434  0.490566\n"
     ]
    }
   ],
   "source": [
    "#Q5\n",
    "success_by_employment = df.groupby('Employed')['Success'].value_counts(normalize=True).unstack()\n",
    "print(\"Success Rate by Employment Status:\\n\", success_by_employment)"
   ]
  },
  {
   "cell_type": "code",
   "execution_count": 28,
   "id": "9b161a07",
   "metadata": {},
   "outputs": [
    {
     "name": "stdout",
     "output_type": "stream",
     "text": [
      "+------------+----------------+\n",
      "| Success    |   phi(Success) |\n",
      "+============+================+\n",
      "| Success(0) |         0.4500 |\n",
      "+------------+----------------+\n",
      "| Success(1) |         0.5500 |\n",
      "+------------+----------------+\n"
     ]
    }
   ],
   "source": [
    "#Q6\n",
    "result = inference.query(variables=['Success'], evidence={\n",
    "    'Business': 0,\n",
    "    'MaritalStatus': 1\n",
    "})\n",
    "print(result)"
   ]
  },
  {
   "cell_type": "code",
   "execution_count": 29,
   "id": "80a53b13",
   "metadata": {},
   "outputs": [
    {
     "name": "stdout",
     "output_type": "stream",
     "text": [
      "+------------+----------------+\n",
      "| Success    |   phi(Success) |\n",
      "+============+================+\n",
      "| Success(0) |         0.7500 |\n",
      "+------------+----------------+\n",
      "| Success(1) |         0.2500 |\n",
      "+------------+----------------+\n"
     ]
    }
   ],
   "source": [
    "#Q7\n",
    "result = inference.query(\n",
    "    variables=['Success'],\n",
    "    evidence={\n",
    "        'Gender': 0,\n",
    "        'AgeGroup': 0,\n",
    "        'Employed': 1,\n",
    "        'MaritalStatus': 1\n",
    "    }\n",
    ")\n",
    "print(result)"
   ]
  },
  {
   "cell_type": "code",
   "execution_count": null,
   "id": "f44c89cc",
   "metadata": {},
   "outputs": [],
   "source": []
  }
 ],
 "metadata": {
  "kernelspec": {
   "display_name": "Python 3",
   "language": "python",
   "name": "python3"
  },
  "language_info": {
   "codemirror_mode": {
    "name": "ipython",
    "version": 3
   },
   "file_extension": ".py",
   "mimetype": "text/x-python",
   "name": "python",
   "nbconvert_exporter": "python",
   "pygments_lexer": "ipython3",
   "version": "3.12.1"
  }
 },
 "nbformat": 4,
 "nbformat_minor": 5
}
